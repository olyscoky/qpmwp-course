{
 "cells": [
  {
   "cell_type": "markdown",
   "metadata": {},
   "source": [
    "# Assignment 2\n",
    "\n",
    "Deadline: 26.03.2025, 12:00 CET\n",
    "\n",
    "<Add your name, student-id and emal address>"
   ]
  },
  {
   "cell_type": "markdown",
   "metadata": {},
   "source": [
    "## 1. Linearization of Turnover\n",
    "\n",
    "**(15 points)**\n",
    "\n",
    "Turnover constraints are used to limit the amount of change in portfolio weights between periods, helping to manage transaction costs and maintain portfolio stability.\n",
    "\n",
    "Your task is to implement a method `linearize_turnover_constraint` for the class `QuadraticProgram`, which modifies the quadratic programming problem to incorporate a linearized turnover constraint. This will involve updating the objective function coefficients, equality and inequality constraints, as well as the lower and upper bounds of the problem. \n",
    "\n",
    "Additionally, complete the example provided below to demonstrate that your method functions correctly.\n",
    "\n",
    "In class, we discussed a solution that involved augmenting the dimensionality by a factor of three. Here, you are asked to implement an alternative method that involves a two-fold increase in dimensions. If you are unable to implement the two-fold method, you may proceed with the three-fold approach.\n",
    "\n",
    "### Function Parameters:\n",
    "- `x_init` (np.ndarray): The initial portfolio weights.\n",
    "- `to_budget` (float, optional): The maximum allowable turnover. Defaults to `float('inf')`.\n",
    "\n",
    "### Steps for Function Implementation:\n",
    "\n",
    "As discussed in the lecture, introduce auxiliary variables and augment the matrices/vectors used for optimization.\n",
    "\n",
    "- **Objective Function Coefficients**:  \n",
    "  Pad the existing objective function coefficients (`P` and `q`) to accommodate the new variables introduced by the turnover constraint.  \n",
    "  *Note*: \"Padding\" refers to adding extra elements (typically zeros) to an array or matrix to increase its size to a desired shape.\n",
    "\n",
    "- **Equality Constraints**:  \n",
    "  Pad the existing equality constraint matrix (`A`) to account for the new variables.\n",
    "\n",
    "- **Inequality Constraints**:  \n",
    "  Pad the existing inequality constraint matrix ('G') and vector ('h') and further add a new inequality constraint row to incorporate the turnover constraint.  \n",
    "\n",
    "- **Lower and Upper Bounds**:  \n",
    "  Pad the existing lower (`lb`) and upper (`ub`) bounds to accommodate the new variables.\n",
    "\n",
    "- **Update Problem Data**:  \n",
    "  Overwrite the original problem data in the `QuadraticProgram` class with the updated matrices and vectors to include the linearized turnover constraint."
   ]
  },
  {
   "cell_type": "code",
   "execution_count": null,
   "metadata": {},
   "outputs": [],
   "source": [
    "# Import standard libraries\n",
    "import types\n",
    "import os\n",
    "import sys\n",
    "\n",
    "# Import third-party libraries\n",
    "import numpy as np\n",
    "import pandas as pd\n",
    "\n",
    "# Import local modules\n",
    "project_root = os.path.dirname(os.path.dirname(os.getcwd()))  # Change this path if needed\n",
    "src_path = os.path.join(project_root, 'qpmwp-course\\\\src')\n",
    "sys.path.append(project_root)\n",
    "sys.path.append(src_path)\n",
    "from estimation.covariance import Covariance\n",
    "from estimation.expected_return import ExpectedReturn\n",
    "from optimization.constraints import Constraints\n",
    "from optimization.quadratic_program import QuadraticProgram\n",
    "from helper_functions import load_data_msci"
   ]
  },
  {
   "cell_type": "code",
   "execution_count": null,
   "metadata": {},
   "outputs": [],
   "source": [
    "def linearize_turnover_constraint(self, x_init: np.ndarray, to_budget=float('inf')) -> None:\n",
    "        '''\n",
    "        Linearize the turnover constraint in the quadratic programming problem.\n",
    "\n",
    "        This method modifies the quadratic programming problem to include a linearized turnover constraint.\n",
    "\n",
    "        Parameters:\n",
    "        -----------\n",
    "        x_init : np.ndarray\n",
    "            The initial portfolio weights.\n",
    "        to_budget : float, optional\n",
    "            The maximum allowable turnover. Defaults to float('inf').\n",
    "\n",
    "        Notes:\n",
    "        ------\n",
    "        - The method updates the problem's objective function coefficients, inequality constraints,\n",
    "        equality constraints, and bounds to account for the turnover constraint.\n",
    "        - The original problem data is overridden with the updated matrices and vectors.\n",
    "\n",
    "        Examples:\n",
    "        ---------\n",
    "        >>> qp = QuadraticProgram(P, q, G, h, A, b, lb, ub, solver='cvxopt')\n",
    "        >>> qp.linearize_turnover_constraint(x_init=np.array([0.1, 0.2, 0.3]), to_budget=0.05)\n",
    "        '''\n",
    "        # Dimensions\n",
    "        n = len(self.problem_data.get('q'))\n",
    "        m = 0 if self.problem_data.get('G') is None else self.problem_data.get('G').shape[0]\n",
    "\n",
    "        # Update the coefficients of the objective function\n",
    "        # <add code here>\n",
    "\n",
    "        # Update the equality constraints\n",
    "        # <add code here>\n",
    "\n",
    "        # Update the inequality constraints\n",
    "        # <add code here>\n",
    "\n",
    "        # Update lower and upper bounds\n",
    "        # <add code here>\n",
    "\n",
    "        # Override the original matrices (notice: b does not change)\n",
    "        self.update_problem_data({\n",
    "            'P': P,\n",
    "            'q': q,\n",
    "            'G': G,\n",
    "            'h': h,\n",
    "            'A': A,\n",
    "            'lb': lb,\n",
    "            'ub': ub\n",
    "        })\n",
    "\n",
    "        return None"
   ]
  },
  {
   "cell_type": "markdown",
   "metadata": {},
   "source": [
    "## Demo"
   ]
  },
  {
   "cell_type": "markdown",
   "metadata": {},
   "source": [
    "#### Create P and q"
   ]
  },
  {
   "cell_type": "code",
   "execution_count": 19,
   "metadata": {},
   "outputs": [],
   "source": [
    "# Load the msci country index data\n",
    "N = 10\n",
    "data = load_data_msci(path = '../data/', n = N)\n",
    "X = data['return_series']\n",
    "\n",
    "# Compute the vector of expected returns (mean returns)\n",
    "q = ExpectedReturn(method='geometric').estimate(X=X, inplace=False)\n",
    "\n",
    "# Compute the covariance matrix\n",
    "P = Covariance(method='pearson').estimate(X=X, inplace=False)\n",
    "\n",
    "# q, P"
   ]
  },
  {
   "cell_type": "markdown",
   "metadata": {},
   "source": [
    "### Create some constraints, instantiate an object of class QuadraticProgram, and add the method linearize_turnover_constraint to the instance."
   ]
  },
  {
   "cell_type": "code",
   "execution_count": 20,
   "metadata": {},
   "outputs": [],
   "source": [
    "# Instantiate the constraints with only the budget and long-only constraints\n",
    "constraints = Constraints(ids = X.columns.tolist())\n",
    "constraints.add_budget(rhs=1, sense='=')\n",
    "constraints.add_box(lower=0.0, upper=1.0)\n",
    "GhAb = constraints.to_GhAb()\n",
    "\n",
    "# Create a quadratic program and linearize the turnover constraint\n",
    "qp = QuadraticProgram(\n",
    "    P = P.to_numpy(),\n",
    "    q = q.to_numpy() * 0,\n",
    "    G = GhAb['G'],\n",
    "    h = GhAb['h'],\n",
    "    A = GhAb['A'],\n",
    "    b = GhAb['b'],\n",
    "    lb = constraints.box['lower'].to_numpy(),\n",
    "    ub = constraints.box['upper'].to_numpy(),\n",
    "    solver = 'cvxopt',\n",
    ")\n",
    "\n",
    "# Add the linearized turnover constraint method to the instance of class QuadraticProgram\n",
    "qp.linearize_turnover_constraint = types.MethodType(linearize_turnover_constraint, qp)\n"
   ]
  },
  {
   "cell_type": "markdown",
   "metadata": {},
   "source": [
    "### Add a turnover limit of 50%. Solve the problem and check whether the turnover constraint is respected."
   ]
  },
  {
   "cell_type": "code",
   "execution_count": 21,
   "metadata": {},
   "outputs": [
    {
     "name": "stdout",
     "output_type": "stream",
     "text": [
      "Turnover:\n",
      "0.49954552248142037\n"
     ]
    }
   ],
   "source": [
    "# Prepare initial weights\n",
    "x_init = pd.Series([1/X.shape[1]]*X.shape[1], index=X.columns)\n",
    "\n",
    "# Add the linearized turnover constraint\n",
    "qp.linearize_turnover_constraint(x_init=x_init, to_budget=0.5)\n",
    "\n",
    "# Solve the problem\n",
    "qp.solve()\n",
    "\n",
    "# Check the turnover\n",
    "solution = qp.results.get('solution')\n",
    "ids = constraints.ids\n",
    "weights = pd.Series(solution.x[:len(ids)], index=ids)\n",
    "\n",
    "print(\"Turnover:\")\n",
    "print(np.abs(weights - x_init).sum())"
   ]
  }
 ],
 "metadata": {
  "kernelspec": {
   "display_name": ".venv",
   "language": "python",
   "name": "python3"
  },
  "language_info": {
   "codemirror_mode": {
    "name": "ipython",
    "version": 3
   },
   "file_extension": ".py",
   "mimetype": "text/x-python",
   "name": "python",
   "nbconvert_exporter": "python",
   "pygments_lexer": "ipython3",
   "version": "3.10.11"
  }
 },
 "nbformat": 4,
 "nbformat_minor": 2
}
